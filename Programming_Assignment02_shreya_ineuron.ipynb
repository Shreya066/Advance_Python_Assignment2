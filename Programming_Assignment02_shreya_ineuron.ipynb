{
 "cells": [
  {
   "cell_type": "markdown",
   "id": "46fb5bf3",
   "metadata": {},
   "source": [
    "**1. Write a function that takes a positive integer num and calculates how many\n",
    "dots exist in a pentagonal shape around the center dot on the Nth iteration.\n",
    "In the image below you can see the first iteration is only a single dot. On the\n",
    "second, there are 6 dots. On the third, there are 16 dots, and on the fourth\n",
    "there are 31 dots. <br>\n",
    "Return the number of dots that exist in the whole pentagon on the Nth\n",
    "iteration.** <br>\n",
    "*Examples <br>\n",
    "pentagonal(1) ➞ 1 <br>\n",
    "pentagonal(2) ➞ 6 <br>\n",
    "pentagonal(3) ➞ 16 <br>\n",
    "pentagonal(8) ➞ 141*"
   ]
  },
  {
   "cell_type": "code",
   "execution_count": 1,
   "id": "ae3caa9b",
   "metadata": {},
   "outputs": [
    {
     "name": "stdout",
     "output_type": "stream",
     "text": [
      "pentagonal(1) ➞ 1\n",
      "pentagonal(2) ➞ 6\n",
      "pentagonal(3) ➞ 16\n",
      "pentagonal(8) ➞ 141\n"
     ]
    }
   ],
   "source": [
    "def pentagonal(in_num):\n",
    "    output = 1\n",
    "    if in_num >=1:\n",
    "        for ele in range(in_num):\n",
    "            output = output + (5*ele)\n",
    "        print(f'pentagonal({in_num}) ➞ {output}')\n",
    "    else:\n",
    "        print(\"Enter a Positive Number as Input\")\n",
    "        \n",
    "pentagonal(1) \n",
    "pentagonal(2)\n",
    "pentagonal(3)\n",
    "pentagonal(8)"
   ]
  },
  {
   "cell_type": "markdown",
   "id": "bdac8b41",
   "metadata": {},
   "source": [
    "**2. Make a function that encrypts a given input with these steps:** <br>\n",
    "*Input: &quot;apple&quot;* <br>\n",
    "**Step 1: Reverse the input: &quot;elppa&quot;** <br>\n",
    "**Step 2: Replace all vowels using the following chart:** <br>\n",
    "*a =&gt; 0 <br>\n",
    "e =&gt; 1 <br>\n",
    "i =&gt; 2 <br>\n",
    "o =&gt; 2 <br>\n",
    "u =&gt; 3 <br>\n",
    "#&quot;1lpp0&quot;*\n",
    "**Step 3: Add &quot;aca&quot; to the end of the word: &quot;1lpp0aca&quot;** <br>\n",
    "*Output: &quot;1lpp0aca&quot; <br>\n",
    "Examples <br>\n",
    "encrypt(&quot;banana&quot;) ➞ &quot;0n0n0baca&quot; <br>\n",
    "encrypt(&quot;karaca&quot;) ➞ &quot;0c0r0kaca&quot; <br>\n",
    "encrypt(&quot;burak&quot;) ➞ &quot;k0r3baca&quot; <br>\n",
    "encrypt(&quot;alpaca&quot;) ➞ &quot;0c0pl0aca&quot;*"
   ]
  },
  {
   "cell_type": "code",
   "execution_count": 2,
   "id": "43aa2e88",
   "metadata": {},
   "outputs": [
    {
     "name": "stdout",
     "output_type": "stream",
     "text": [
      "encrypt(banana) ➞ 0n0n0baca\n",
      "encrypt(karaca) ➞ 0c0r0kaca\n",
      "encrypt(burak) ➞ k0r2baca\n",
      "encrypt(alpaca) ➞ 0c0pl0aca\n"
     ]
    }
   ],
   "source": [
    "def encrypt(in_string):\n",
    "    vowels = {'a':'0','e':'1','i':'2','o':'2','u':'2'}\n",
    "    out_string = ''\n",
    "    for ele in in_string[::-1]:\n",
    "        if ele in vowels.keys():\n",
    "            out_string += vowels[ele]\n",
    "        else:\n",
    "            out_string += ele\n",
    "    out_string += \"aca\"\n",
    "    print(f'encrypt({in_string}) ➞ {out_string}')\n",
    "        \n",
    "encrypt(\"banana\")\n",
    "encrypt(\"karaca\")\n",
    "encrypt(\"burak\")\n",
    "encrypt(\"alpaca\") "
   ]
  },
  {
   "cell_type": "markdown",
   "id": "29c4fd54",
   "metadata": {},
   "source": [
    "**3. Given the month and year as numbers, return whether that month contains\n",
    "a Friday 13th.(i.e You can check Python&#39;s datetime module)** <br>\n",
    "*Examples <br>\n",
    "has_friday_13(3, 2020) ➞ True <br>\n",
    "has_friday_13(10, 2017) ➞ True <br>\n",
    "has_friday_13(1, 1985) ➞ False* <br>"
   ]
  },
  {
   "cell_type": "code",
   "execution_count": 3,
   "id": "87283b81",
   "metadata": {},
   "outputs": [
    {
     "name": "stdout",
     "output_type": "stream",
     "text": [
      "has_friday_13(3, 2020) ➞ True\n",
      "has_friday_13(10, 2017) ➞ True\n",
      "has_friday_13(1, 1985) ➞ False\n"
     ]
    }
   ],
   "source": [
    "import datetime\n",
    "def has_friday_13(month,year):\n",
    "    output = False\n",
    "    if datetime.datetime(year,month,13).strftime('%A') == 'Friday':\n",
    "        output = True\n",
    "    print(f'has_friday_13{month,year} ➞ {output}')\n",
    "\n",
    "has_friday_13(3, 2020)\n",
    "has_friday_13(10, 2017)\n",
    "has_friday_13(1, 1985)"
   ]
  },
  {
   "cell_type": "markdown",
   "id": "533597b8",
   "metadata": {},
   "source": [
    "**4. Write a regular expression that will help us count how many bad cookies\n",
    "are produced every day. You must use RegEx negative lookbehind.** <br>\n",
    "*Example <br>\n",
    "lst = [&quot;bad cookie&quot;, &quot;good cookie&quot;, &quot;bad cookie&quot;, &quot;good cookie&quot;, &quot;good cookie&quot;] <br>\n",
    "pattern = &quot;yourregularexpressionhere&quot; <br>\n",
    "len(re.findall(pattern, &quot;, &quot;.join(lst))) ➞ 2* "
   ]
  },
  {
   "cell_type": "code",
   "execution_count": 4,
   "id": "44b4561a",
   "metadata": {},
   "outputs": [
    {
     "name": "stdout",
     "output_type": "stream",
     "text": [
      "No of Bad cookies produced per day ➞ 2\n"
     ]
    }
   ],
   "source": [
    "import re\n",
    "lst = [\"bad cookie\", \"good cookie\", \"bad cookie\", \"good cookie\", \"good cookie\"]\n",
    "pattern = r'(?<!good)\\scookie'\n",
    "data = re.findall(pattern,' '.join(lst))\n",
    "print(f'No of Bad cookies produced per day ➞ {len(data)}')"
   ]
  },
  {
   "cell_type": "markdown",
   "id": "4695370e",
   "metadata": {},
   "source": [
    "**5. Given a list of words in the singular form, return a set of those words in the\n",
    "plural form if they appear more than once in the list.** <br>\n",
    "*Examples <br>\n",
    "pluralize([&quot;cow&quot;, &quot;pig&quot;, &quot;cow&quot;, &quot;cow&quot;]) ➞ { &quot;cows&quot;, &quot;pig&quot; } <br>\n",
    "pluralize([&quot;table&quot;, &quot;table&quot;, &quot;table&quot;]) ➞ { &quot;tables&quot; }* <br>"
   ]
  },
  {
   "cell_type": "code",
   "execution_count": 5,
   "id": "cfa54e5a",
   "metadata": {},
   "outputs": [
    {
     "name": "stdout",
     "output_type": "stream",
     "text": [
      "pluralize(['cow', 'pig', 'cow', 'cow'])  ➞ {'pig', 'cows'}\n",
      "pluralize(['table', 'table', 'table'])  ➞ {'tables'}\n",
      "pluralize(['chair', 'pencil', 'arm'])  ➞ {'pencil', 'chair', 'arm'}\n"
     ]
    }
   ],
   "source": [
    "def pluralize(in_list):\n",
    "    out_set = set()\n",
    "    for ele in set(in_list):\n",
    "        if in_list.count(ele) > 1:\n",
    "            out_set.add(ele+'s')\n",
    "        else:\n",
    "            out_set.add(ele)\n",
    "    print(f'pluralize({in_list})  ➞ {out_set}')\n",
    "    \n",
    "pluralize([\"cow\", \"pig\", \"cow\", \"cow\"])\n",
    "pluralize([\"table\", \"table\", \"table\"])\n",
    "pluralize([\"chair\", \"pencil\", \"arm\"]) "
   ]
  }
 ],
 "metadata": {
  "kernelspec": {
   "display_name": "Python 3 (ipykernel)",
   "language": "python",
   "name": "python3"
  },
  "language_info": {
   "codemirror_mode": {
    "name": "ipython",
    "version": 3
   },
   "file_extension": ".py",
   "mimetype": "text/x-python",
   "name": "python",
   "nbconvert_exporter": "python",
   "pygments_lexer": "ipython3",
   "version": "3.9.7"
  }
 },
 "nbformat": 4,
 "nbformat_minor": 5
}
